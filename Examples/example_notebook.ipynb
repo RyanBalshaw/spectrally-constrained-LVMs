{
 "cells": [
  {
   "cell_type": "code",
   "execution_count": null,
   "id": "fb4ffe2d-707c-4568-838b-0a1912c64430",
   "metadata": {
    "tags": []
   },
   "outputs": [],
   "source": [
    "import numpy as np\n",
    "import spectrally_constrained_LVMs as scLVMs\n",
    "\n",
    "from matplotlib import pyplot as plt\n",
    "import matplotlib\n",
    "from axs_fixer import fix\n",
    "\n",
    "MEDIUM_SIZE = 30\n",
    "BIGGER_SIZE = 40\n",
    "\n",
    "plt.rc(\"font\", size=MEDIUM_SIZE)  # controls default text sizes\n",
    "plt.rc(\"axes\", titlesize=MEDIUM_SIZE)  # fontsize of the axes title\n",
    "plt.rc(\"axes\", labelsize=MEDIUM_SIZE)  # fontsize of the x and y labels\n",
    "plt.rc(\"xtick\", labelsize=MEDIUM_SIZE)  # fontsize of the tick labels\n",
    "plt.rc(\"ytick\", labelsize=MEDIUM_SIZE)  # fontsize of the tick labels\n",
    "plt.rc(\"legend\", fontsize=MEDIUM_SIZE)  # legend fontsize\n",
    "plt.rc(\"figure\", titlesize=BIGGER_SIZE)  # fontsize of the figure title\n",
    "plt.rc(\"figure\", figsize=(16, 10), dpi=600)\n",
    "plt.rc(\"savefig\", dpi=600, format=\"pdf\")\n",
    "plt.rc(\"grid\", linestyle=\"--\")\n",
    "\n",
    "matplotlib.rcParams.update(\n",
    "    {  # Use mathtext, not LaTeX\n",
    "        \"text.usetex\": False,\n",
    "        # Use the Computer modern font\n",
    "        \"font.family\": \"serif\",\n",
    "        \"font.serif\": \"cmr10\",\n",
    "        \"mathtext.fontset\": \"cm\",\n",
    "        # Use ASCII minus\n",
    "        \"axes.unicode_minus\": False,\n",
    "    }\n",
    ")\n",
    "\n",
    "plt.ioff()\n",
    "\n",
    "scLVMs.__version__"
   ]
  },
  {
   "cell_type": "markdown",
   "id": "44315288-3190-4600-b59c-18d29c1583b6",
   "metadata": {},
   "source": [
    "# Example one\n",
    "\n",
    "In the first example, the negentropy-based objective function common to ICA is used to estimate the model parameters."
   ]
  },
  {
   "cell_type": "markdown",
   "id": "21e7c887-5569-4b57-940b-50661087d134",
   "metadata": {},
   "source": [
    "## Perform all model estimation steps"
   ]
  },
  {
   "cell_type": "code",
   "execution_count": null,
   "id": "b23e955d-8e6e-4643-81d4-6c3b52a508b1",
   "metadata": {
    "tags": []
   },
   "outputs": [],
   "source": [
    "np.random.seed(0)\n",
    "\n",
    "## Step 1: Load in the time series signal\n",
    "Fs = 20480\n",
    "\n",
    "data_dict = np.loadtxt(\"./2004.02.16.04.32.39\")\n",
    "signal_data = data_dict[:, 0]\n",
    "\n",
    "## Step 2: Perform pre-processing\n",
    "Lw = 256\n",
    "Lsft = 1\n",
    "X = scLVMs.hankel_matrix(signal_data, Lw, Lsft) # Hankelise the vibration data\n",
    "\n",
    "## Define the cost function\n",
    "cost_inst = scLVMs.NegentropyCost(\"exp\", {\"alpha\":1}) # negentropy objective\n",
    "\n",
    "## Define the model\n",
    "model_inst = scLVMs.LinearModel(n_sources = 5,\n",
    "                                cost_instance = cost_inst, \n",
    "                                organise_by_kurt = True,\n",
    "                                alpha_reg = 1.0, \n",
    "                                verbose = True)\n",
    "\n",
    "## Step 3: Estimate the model parameters\n",
    "model_inst.fit(X, n_iters = 500, learning_rate = 1, tol = 1e-4, Fs = Fs)\n",
    "\n",
    "## Step 4: Obtain the latent representation Z\n",
    "Z = model_inst.transform(X)\n",
    "\n",
    "## Step 5: Obtain the recovered representation of X\n",
    "X_recon = model_inst.inverse_transform(Z)"
   ]
  },
  {
   "cell_type": "markdown",
   "id": "b82139a3-5b39-4d28-8410-bd53e83523fa",
   "metadata": {},
   "source": [
    "## Visualisation - Figure one"
   ]
  },
  {
   "cell_type": "code",
   "execution_count": null,
   "id": "c782963b-ebfa-4cdf-b0f4-7a11fc4c3e17",
   "metadata": {
    "tags": []
   },
   "outputs": [],
   "source": [
    "colors = [\"#00b0f9\", \"#bfacdc\", \"#d0bdd5\", \"#ffa59e\", \"#dd4c65\",\"#93003a\"]\n",
    "fig, ax = plt.subplots(figsize = (12, 10))\n",
    "\n",
    "n = len(signal_data)\n",
    "fft_freq = np.fft.fftfreq(n, 1/Fs)[:n//2]\n",
    "fft_val = 2/n * np.abs(np.fft.fft(signal_data)[:n//2])\n",
    "ax.plot(fft_freq, fft_val, lw = 0.5, color = \"k\", label = \"Record 540\")\n",
    "ax.set_xlabel(\"Frequency (Hz)\")\n",
    "ax.set_ylabel(\"Magnitude\")\n",
    "ax.grid()\n",
    "ax.legend()\n",
    "\n",
    "fig.tight_layout()\n",
    "\n",
    "# plt.savefig(\"./signal.pdf\")\n",
    "# plt.savefig(\"./signal.png\")\n",
    "plt.show()"
   ]
  },
  {
   "cell_type": "markdown",
   "id": "2624552b-6232-4529-9a3d-b6c9d7062ded",
   "metadata": {},
   "source": [
    "## Visualisation - Figure two"
   ]
  },
  {
   "cell_type": "code",
   "execution_count": null,
   "id": "5d1271e2-9818-4eb0-bc96-8515ef117822",
   "metadata": {
    "tags": []
   },
   "outputs": [],
   "source": [
    "fig, ax = plt.subplots(5, 2, figsize = (20, 24))\n",
    "\n",
    "n = Z.shape[0]\n",
    "fft_freq = np.fft.fftfreq(n, 1/Fs)[:n//2]\n",
    "\n",
    "for cnt in range(5):\n",
    "    fft_val = 2/n * np.abs(np.fft.fft(Z[:, cnt])[:n//2])\n",
    "    se_fft_val = 2/n * np.abs(np.fft.fft(Z[:, cnt]**2)[:n//2])\n",
    "    ax[cnt, 0].plot(fft_freq, fft_val, color = \"b\", linewidth = 0.5, label = f\"Source {cnt + 1}: Spectrum\")\n",
    "    ax[cnt, 1].plot(fft_freq, se_fft_val, color = \"r\", linewidth = 0.5, label = f\"Source {cnt + 1}: SES\")\n",
    "    ax[cnt, 1].set_xlim(-10, 2000)\n",
    "    \n",
    "fig.tight_layout()\n",
    "\n",
    "for cnt, axs in enumerate(ax.flatten()):\n",
    "    axs.set_xlabel(\"Frequency (Hz)\")\n",
    "    axs.set_ylabel(\"Magnitude\")\n",
    "    axs.grid()\n",
    "    axs.legend()\n",
    "    fix(axs, minor_flag=True, flag_3d=False)\n",
    "    \n",
    "# plt.savefig(\"./sources.pdf\")\n",
    "# plt.savefig(\"./sources.png\")\n",
    "plt.show()"
   ]
  },
  {
   "cell_type": "markdown",
   "id": "f968a11b-6efc-4c1a-acf5-a28ad5223f24",
   "metadata": {},
   "source": [
    "# Example two\n",
    "\n",
    "In this example, different methods of cost function implementation are demonstrated."
   ]
  },
  {
   "cell_type": "code",
   "execution_count": null,
   "id": "e20fd7e9-db31-4d48-ae62-c683ca0c0efa",
   "metadata": {
    "tags": []
   },
   "outputs": [],
   "source": [
    "import spectrally_constrained_LVMs as scLVMs\n",
    "import numpy as np\n",
    "import sympy as sp\n",
    "np.random.seed(0)\n",
    "\n",
    "# Setup general X matrix\n",
    "X_ = np.random.randn(1000, 16)\n",
    "w_ = np.random.randn(16, 1)\n",
    "y_ = X_ @ w_"
   ]
  },
  {
   "cell_type": "markdown",
   "id": "bc986479-5250-4bbf-b816-d8643e569cc0",
   "metadata": {},
   "source": [
    "## Cost function: implementation one"
   ]
  },
  {
   "cell_type": "code",
   "execution_count": null,
   "id": "fd880460-20ba-4df9-8e12-409f698eb90f",
   "metadata": {
    "tags": []
   },
   "outputs": [],
   "source": [
    "# Method 1 - user defined cost function\n",
    "\n",
    "## Initialise the cost function instance\n",
    "cost_inst = scLVMs.UserCost(use_hessian=True)\n",
    "\n",
    "## Implement the objective function, gradient and Hessian\n",
    "def loss(X, w, y):\n",
    "    return -1 * np.mean((X @ w) ** 2, axis=0)\n",
    "\n",
    "def grad(X, w, y):\n",
    "    return -2 * np.mean(y * X, axis=0, keepdims=True).T\n",
    "\n",
    "def hess(X, w, y):\n",
    "    return -2 * np.cov(X, rowvar=False)\n",
    "\n",
    "# Set the properties\n",
    "cost_inst.set_cost(loss)\n",
    "cost_inst.set_gradient(grad)\n",
    "cost_inst.set_hessian(hess)\n",
    "\n",
    "# Check that the gradient and Hessian make sense\n",
    "res_grad = cost_inst.check_gradient(X_, w_, y_, 1e-4)\n",
    "res_hess = cost_inst.check_hessian(X_, w_, y_, 1e-4)"
   ]
  },
  {
   "cell_type": "markdown",
   "id": "16b5dd27-61f6-448e-8012-bb1678805d15",
   "metadata": {},
   "source": [
    "## Cost function: implementation two"
   ]
  },
  {
   "cell_type": "code",
   "execution_count": null,
   "id": "96fef656-f94f-484f-b186-114d5c26f249",
   "metadata": {
    "tags": []
   },
   "outputs": [],
   "source": [
    "# Method 2 - Sympy\n",
    "## Set the feature shapes (necessary for SymPy version)\n",
    "n_samples = X_.shape[0]\n",
    "n_features = w_.shape[0]\n",
    "\n",
    "## Initialise the cost function instance\n",
    "cost_inst = scLVMs.SympyCost(n_samples, n_features, use_hessian=True)\n",
    "\n",
    "## Get the SymPy representations of the model parameters\n",
    "X_sp, w_sp, iter_params = cost_inst.get_model_parameters()\n",
    "i, j = iter_params\n",
    "\n",
    "## Calculate the objective function\n",
    "loss_i = sp.Sum(w_sp[j, 0] * X_sp[i, j], (j, 0, n_features - 1))\n",
    "loss = -1 / n_samples * sp.Sum((loss_i) ** 2, (i, 0, n_samples - 1))\n",
    "\n",
    "## Set the properties within the instance\n",
    "cost_inst.set_cost(loss)\n",
    "\n",
    "## Ask Sympy to derive the first and second order derivatives\n",
    "cost_inst.implement_methods()\n",
    "\n",
    "# Check that the gradient and Hessian make sense\n",
    "res_grad = cost_inst.check_gradient(X_, w_, y_, 1e-4)\n",
    "res_hess = cost_inst.check_hessian(X_, w_, y_, 1e-4)"
   ]
  },
  {
   "cell_type": "markdown",
   "id": "c5cc9326-ee60-4588-9413-e641b5007f3a",
   "metadata": {},
   "source": [
    "## Cost function: implementation three"
   ]
  },
  {
   "cell_type": "code",
   "execution_count": null,
   "id": "2e23fd40-122f-427a-8779-3fe2e3b8ec85",
   "metadata": {
    "tags": []
   },
   "outputs": [],
   "source": [
    "# Method 3 - negentropy loss\n",
    "\n",
    "## Initialise the cost function instance\n",
    "cost_inst = scLVMs.NegentropyCost(source_name=\"exp\", \n",
    "                                  source_params={\"alpha\": 1})\n",
    "\n",
    "## Check that the gradient and Hessian make sense\n",
    "res_grad = cost_inst.check_gradient(X_, w_, y_, 1e-4)\n",
    "res_hess = cost_inst.check_hessian(X_, w_, y_, 1e-4)"
   ]
  },
  {
   "cell_type": "markdown",
   "id": "05d32cba-e2b1-428b-b08c-17ed62a8c92d",
   "metadata": {},
   "source": [
    "## Cost function: implementation four"
   ]
  },
  {
   "cell_type": "code",
   "execution_count": null,
   "id": "b14e0090-61fa-4e93-b074-d6836dfa5282",
   "metadata": {
    "tags": []
   },
   "outputs": [],
   "source": [
    "# Method 4 - variance loss\n",
    "\n",
    "## Initialise the cost function instance\n",
    "cost_inst = scLVMs.VarianceCost(use_hessian=True, verbose=True)\n",
    "\n",
    "## Check that the gradient and Hessian make sense\n",
    "res_grad = cost_inst.check_gradient(X_, w_, y_, 1e-4)\n",
    "res_hess = cost_inst.check_hessian(X_, w_, y_, 1e-4)"
   ]
  }
 ],
 "metadata": {
  "kernelspec": {
   "display_name": "sc_LVMs-venv",
   "language": "python",
   "name": "sc_lvms-venv"
  },
  "language_info": {
   "codemirror_mode": {
    "name": "ipython",
    "version": 3
   },
   "file_extension": ".py",
   "mimetype": "text/x-python",
   "name": "python",
   "nbconvert_exporter": "python",
   "pygments_lexer": "ipython3",
   "version": "3.10.8"
  }
 },
 "nbformat": 4,
 "nbformat_minor": 5
}
